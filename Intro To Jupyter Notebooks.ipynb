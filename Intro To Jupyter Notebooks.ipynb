{
 "cells": [
  {
   "cell_type": "markdown",
   "metadata": {
    "nbgrader": {
     "grade": false,
     "grade_id": "cell-4f14f7c57afb6f02",
     "locked": true,
     "schema_version": 1,
     "solution": false
    }
   },
   "source": [
    "# Introduction to Jupyter notebooks"
   ]
  },
  {
   "cell_type": "markdown",
   "metadata": {
    "nbgrader": {
     "grade": false,
     "grade_id": "cell-1012e74ae537d8f5",
     "locked": true,
     "schema_version": 1,
     "solution": false
    }
   },
   "source": [
    "Jupyter notebooks are an alternative environment for developing and running code, as well as for integrating  documentation and graphical results.  The IPython interpreter, which you have been using up until now within a terminal window, is running inside a Jupyter notebook, and can process both Python code and IPython %magic functions that you enter into the input cells.  Jupyter notebooks introduce a new level of code structure, that of cells, and the IPython interpreter is running within each of those code cells.  You can group multiple Python expressions together in a cell, and those expression only get evaluated once you execute the entire cell.  In Jupyter notebooks, a simple carriage return (<code>return</code> key on keyboard) will move you down to a new line in the same cell, but in order to <i>execute the cell</i>, you must type <code>Shift+Return</code>, i.e., the Shift and Return keys at the same time.  You can also execute the currently active cell by clicking on the \">| Run\" button at the top of the page.\n",
    "\n",
    "At any given time, one cell is active and awaiting input.  The cell that is currently awaiting input is highlighted by a surrounding box and colored bar on the left edge.  You can switch between different cells just by clicking the mouse in the one you'd like to work in.\n",
    "\n",
    "Each cell has a <i>type</i> associated with it, and the default type for each new cell is \"Code\", as indicated by the drop-down selector input near the top of the page, in the row containing buttons and icons.  \n",
    "\n",
    "\n"
   ]
  },
  {
   "cell_type": "markdown",
   "metadata": {
    "nbgrader": {
     "grade": false,
     "grade_id": "cell-c0fc7423248b980a",
     "locked": true,
     "schema_version": 1,
     "solution": false
    }
   },
   "source": [
    "## Executing code in notebooks\n",
    "\n",
    "To convince yourself that the notebook includes a live Python interpreter, execute some Python code in the empty cell immediately below this one. First click on the empty cell below to highlight it, then enter <code>2+2</code> in the input cell, and type <code>Shift+Return</code>.  You should see the result of that expression in the Out line below the input cell."
   ]
  },
  {
   "cell_type": "code",
   "execution_count": 1,
   "metadata": {
    "nbgrader": {
     "grade": false,
     "grade_id": "cell-1664934277506f83",
     "locked": true,
     "schema_version": 1,
     "solution": false
    }
   },
   "outputs": [
    {
     "data": {
      "text/plain": [
       "4"
      ]
     },
     "execution_count": 1,
     "metadata": {},
     "output_type": "execute_result"
    }
   ],
   "source": [
    "2+2"
   ]
  },
  {
   "cell_type": "markdown",
   "metadata": {
    "nbgrader": {
     "grade": false,
     "grade_id": "cell-1b898e5d1c9b67f1",
     "locked": true,
     "schema_version": 1,
     "solution": false
    }
   },
   "source": [
    "Click on the empty cell below this one, and in the cell, enter and execute:\n",
    "\n",
    "<code>print('Hello')</code>\n",
    "\n",
    "You should notice that the word 'Hello' is printed below in the notebook, but that there is no ```Out[ ]:``` statement associated with that, since the ```print``` function does not return any value &mdash; it just prints to the screen."
   ]
  },
  {
   "cell_type": "code",
   "execution_count": 3,
   "metadata": {
    "nbgrader": {
     "grade": false,
     "grade_id": "cell-1336e4a3bfa06348",
     "locked": true,
     "schema_version": 1,
     "solution": false
    }
   },
   "outputs": [
    {
     "name": "stdout",
     "output_type": "stream",
     "text": [
      "Hello\n"
     ]
    }
   ],
   "source": [
    "print('Hello')"
   ]
  },
  {
   "cell_type": "markdown",
   "metadata": {
    "nbgrader": {
     "grade": false,
     "grade_id": "cell-a3e003be596c733f",
     "locked": true,
     "schema_version": 1,
     "solution": false
    }
   },
   "source": [
    "## Notebook menus and toolbars\n",
    "\n",
    "Several useful functions for working with notebooks appear at the top of the page, both in a set of menu entries (File, Edit, View, etc.) and a toolbar of buttons below them that execute particular functions.  The toolbar buttons are shortcuts for functions that are also listed in the text menus at the top; for example, the up-arrow button corresponds to \"Edit > Move Cell Up\".\n",
    "\n",
    "The drop-down selector input for the cell type, in the row of icons and buttons at the top of the page, allows you to specify the type of the current, highlighted cell.\n",
    "\n",
    "Below this cell is another empty cell &mdash; click on it to select and highlight it. Then click on the type selector at the top, and change the type for the new empty input cell to \"Markdown\".  Markdown is a simple text formatting language that is used in many web applications.  When you change the type of a cell to Markdown, it no longer expects Python code, but instead Markdown text.  After changing the type, you can enter some text: type \n",
    "\n",
    "<code>Exploring Jupyter notebooks</code> \n",
    "\n",
    "and then <code>Shift+Return</code> to execute the cell.  Once you execute a Markdown cell, the font changes in the notebook, as the Markdown code is rendered.\n",
    "\n",
    "Let's say you wanted to render the text you just typed in a bold header font.  Double-click on the Markdown cell that reads \"Exploring Jupyter notebooks\" to get it back into a cell-editing state, and put two pound signs <code>##</code> at the front of the line, so that the entire text now reads \n",
    "\n",
    "<code>## Exploring Jupyter notebooks</code>  \n",
    "\n",
    "The pound signs are Markdown formatting code, noting that you'd like this text to be in a header font (header level 2).  Type  <code>Shift+Return</code>, and you should see that the text has been re-rendered in a bigger font."
   ]
  },
  {
   "cell_type": "markdown",
   "metadata": {
    "nbgrader": {
     "grade": false,
     "grade_id": "cell-a3d209dccec6d8fd",
     "locked": true,
     "schema_version": 1,
     "solution": false
    }
   },
   "source": [
    "As with any Python code, you cannot access a variable or a function if it has not been previously defined.  A notebook is a bit different from the usual IPython interpreter because you can jump around and execute code in a different order than it appears on the page, but that can lead to confusion.  You should lay out a notebook and execute cells from top to bottom in that order, so that the notebook reads like an annotated program."
   ]
  },
  {
   "cell_type": "markdown",
   "metadata": {},
   "source": [
    "## Exploring Jupyter notebooks"
   ]
  },
  {
   "cell_type": "markdown",
   "metadata": {
    "nbgrader": {
     "grade": false,
     "grade_id": "cell-25fc6be9f3da7a8c",
     "locked": true,
     "schema_version": 1,
     "solution": false
    }
   },
   "source": [
    "Sometimes you'll forget to change the type to Markdown when you want to enter some text, and the IPython interpreter will think you are trying to enter code, at which point it will complain (usually by reporting a SyntaxError) &mdash; you can just change the cell type to Markdown and re-execute it."
   ]
  },
  {
   "cell_type": "markdown",
   "metadata": {
    "nbgrader": {
     "grade": false,
     "grade_id": "cell-f69e1f8b34498246",
     "locked": true,
     "schema_version": 1,
     "solution": false
    }
   },
   "source": [
    "## Reordering cells\n",
    "\n",
    "You can reorder cells in your notebook with the up and down arrow buttons in the toolbar at the top.  Click on the  Markdown cell that you created that reads \"Exploring Jupyter notebooks\" (in order to select and highlight that cell), and then click on the up-arrow button in the toolbar at the top of the page to move it up past the cell above it.  You can move it up as far as you want in order to position it where you want.  Similarly, the down-arrow key in the toolbar lets you move a cell down through the notebook."
   ]
  },
  {
   "cell_type": "markdown",
   "metadata": {
    "nbgrader": {
     "grade": false,
     "grade_id": "cell-48091b8bc3526d4c",
     "locked": true,
     "schema_version": 1,
     "solution": false
    }
   },
   "source": [
    "## Adding code to the notebook\n",
    "\n",
    "We can proceed to add code to the notebook.  Click on the empty cell below this one, and add the following code to it, and then press <code>Shift+Return</code> to execute the cell.  If you encounter some sort of syntax error, fix the code and re-execute the cell until it reports no errors.\n",
    "\n",
    "<code>\n",
    "def add(x,y):\n",
    "    \"Add two inputs and return the result\"\n",
    "    result = x+y\n",
    "    return result\n",
    "</code>"
   ]
  },
  {
   "cell_type": "code",
   "execution_count": 4,
   "metadata": {
    "nbgrader": {
     "grade": false,
     "grade_id": "cell-18ac99b66a9c4dfb",
     "locked": true,
     "schema_version": 1,
     "solution": false
    }
   },
   "outputs": [],
   "source": [
    "def add(x,y):\n",
    "    \"Add two inputs and return the result\"\n",
    "    result=x+y\n",
    "    return result"
   ]
  },
  {
   "cell_type": "markdown",
   "metadata": {
    "nbgrader": {
     "grade": false,
     "grade_id": "cell-798266972787d37d",
     "locked": true,
     "schema_version": 1,
     "solution": false
    }
   },
   "source": [
    "You should see that there is no output associated with the cell above that you just executed, because all you've done is define a function, which doesn't return a result.  In the empty cell below this one, however, you can check to see that the function has been defined by executing the IPython magic function <code>%whos</code>.  It should list the function named <code>add</code> that you just defined in the cell above."
   ]
  },
  {
   "cell_type": "markdown",
   "metadata": {
    "nbgrader": {
     "grade": false,
     "grade_id": "cell-3f5231535a619aaa",
     "locked": true,
     "schema_version": 1,
     "solution": false
    }
   },
   "source": [
    "And you can of course call the function that you have defined.\n",
    "\n",
    "In the cell below this one, enter and execute <code>add(2,2)</code> and observe the output."
   ]
  },
  {
   "cell_type": "code",
   "execution_count": 7,
   "metadata": {
    "nbgrader": {
     "grade": false,
     "grade_id": "cell-358fdce15f24d689",
     "locked": true,
     "schema_version": 1,
     "solution": false
    }
   },
   "outputs": [
    {
     "data": {
      "text/plain": [
       "4"
      ]
     },
     "execution_count": 7,
     "metadata": {},
     "output_type": "execute_result"
    }
   ],
   "source": [
    "add(2,2)"
   ]
  },
  {
   "cell_type": "markdown",
   "metadata": {
    "nbgrader": {
     "grade": false,
     "grade_id": "cell-2f9ec328f0516a2f",
     "locked": true,
     "schema_version": 1,
     "solution": false
    }
   },
   "source": [
    "## Deleting (cutting) cells\n",
    "\n",
    "The call to <code>%whos</code> was useful to check things interactively, but maybe you don't want to keep that around in your notebook for posterity.  To remove that cell, click on it to highlight it, and then click on the scissors button in the toolbar, which cuts selected cells.  The cell you have highlighted is removed.  Many of the toolbar buttons can act on multiple cells at a time: you can use <code>Shift+Click</code> to highlight multiple cells, and then operate on them as a group (up-arrow, down-arrow, cut, etc.)."
   ]
  },
  {
   "cell_type": "markdown",
   "metadata": {
    "nbgrader": {
     "grade": false,
     "grade_id": "cell-1749a470447180f7",
     "locked": true,
     "schema_version": 1,
     "solution": false
    }
   },
   "source": [
    "## Help\n",
    "\n",
    "The IPython help displays a little bit differently in a Jupyter notebook.  Enter and execute <code>add?</code> in the empty cell below this one.  You should note that documentation about the add function (including the docstring that you wrote) appears in a separate panel at the bottom of the page.  You can resize that panel if you want to make it bigger, scroll through it if the documentation doesn't fit all on one line, and remove it once you're done reading the documentation by clicking on the X in the upper right corner of the panel."
   ]
  },
  {
   "cell_type": "code",
   "execution_count": 8,
   "metadata": {
    "nbgrader": {
     "grade": false,
     "grade_id": "cell-7a79991309dc062a",
     "locked": true,
     "schema_version": 1,
     "solution": false
    }
   },
   "outputs": [],
   "source": [
    "add?"
   ]
  },
  {
   "cell_type": "markdown",
   "metadata": {
    "nbgrader": {
     "grade": false,
     "grade_id": "cell-6e395a09f19f54c5",
     "locked": true,
     "schema_version": 1,
     "solution": false
    }
   },
   "source": [
    "## Plotting\n",
    "\n",
    "You can even add plots directly into notebooks.  In the empty cell below this one, enter then execute:\n",
    "\n",
    "<code>\n",
    "import matplotlib.pyplot as plt\n",
    "%matplotlib inline\n",
    "plt.plot([1,2,4,10,5])\n",
    "</code>\n",
    "\n",
    "This will import the matplotlib.pyplot module, instruct the notebook that you want figures to be produced inline in the notebook, and then make a line plot of the data [1,2,4,10,5].  You should see this plot embedded in the notebook below the cell.  If you encounter an error or do not see the plot, continue to fix the code and re-execute the cell until you do."
   ]
  },
  {
   "cell_type": "code",
   "execution_count": 9,
   "metadata": {
    "nbgrader": {
     "grade": false,
     "grade_id": "cell-816c8631ff2ba1df",
     "locked": true,
     "schema_version": 1,
     "solution": false
    }
   },
   "outputs": [
    {
     "data": {
      "text/plain": [
       "[<matplotlib.lines.Line2D at 0x7ff8bfd61400>]"
      ]
     },
     "execution_count": 9,
     "metadata": {},
     "output_type": "execute_result"
    },
    {
     "data": {
      "image/png": "[encoded data removed]",
      "text/plain": [
       "<Figure size 432x288 with 1 Axes>"
      ]
     },
     "metadata": {
      "needs_background": "light"
     },
     "output_type": "display_data"
    }
   ],
   "source": [
    "import matplotlib.pyplot as plt\n",
    "%matplotlib inline\n",
    "plt.plot([1,2,4,10,5])"
   ]
  },
  {
   "cell_type": "markdown",
   "metadata": {
    "nbgrader": {
     "grade": false,
     "grade_id": "cell-6f0f35cfb1d0a9b1",
     "locked": true,
     "schema_version": 1,
     "solution": false
    }
   },
   "source": [
    "## Graded cells and Self-Check cells\n",
    "\n",
    "Some Jupyter Notebooks will be graded. These will contain graded cells that will be labeled accordingly. These cells will contain the line <code># YOUR CODE HERE</code>. Remove this line and replace it with your code.\n",
    "\n",
    "Throughout these exercises, we will provide you with the ability to self-test some of the code that you have written, so that you can check on the status of your code before submitting your work for grading.  These self-checks will follow graded cells and will be labeled accordingly.\n",
    "\n",
    "You will test the self-check test's functionality in the cells below:\n",
    "\n",
    "1. You will write some code in the first code cell (<b>Note: this is just an exercise, you will not be graded for this activity</b>). Remove the line containing <code># YOUR CODE HERE</code> and replace it with the <code>multiply</code> function below. Then press <code>Shift+Return</code>to execute the cell.  If you encounter some sort of syntax error, fix the code and re-execute the cell until it reports no errors.\n",
    "\n",
    "<code>\n",
    "def multiply(x,y):\n",
    "    \"Multiply two inputs and return the result\"\n",
    "    result = x*y\n",
    "    return result\n",
    "</code>\n",
    "\n",
    "\n",
    "2. The second code cell contains a self-check test. Do not write any code in this cell. You should execute the  cell to check whether the self-check passes.  If it does, you'll get a congratulatory note like \"Nice job!\" or \"Correct!\".  If it does not, you will see an error message.  If an error is detected, simply go back to the piece of code that is being tested and try to correct the error, and then run the self-test again.  You can do this as many times as is necessary.  "
   ]
  },
  {
   "cell_type": "markdown",
   "metadata": {
    "nbgrader": {
     "grade": false,
     "grade_id": "cell-b8a2d16240314e57",
     "locked": true,
     "schema_version": 1,
     "solution": false
    }
   },
   "source": [
    "## Graded Cell"
   ]
  },
  {
   "cell_type": "code",
   "execution_count": 10,
   "metadata": {
    "nbgrader": {
     "grade": false,
     "grade_id": "cell-bf8db725abb5a299",
     "locked": true,
     "schema_version": 1,
     "solution": false
    }
   },
   "outputs": [],
   "source": [
    "def multiply(x,y):\n",
    "    \"Multiply two inputs and return the result\"\n",
    "    result=x*y\n",
    "    return result"
   ]
  },
  {
   "cell_type": "markdown",
   "metadata": {
    "nbgrader": {
     "grade": false,
     "grade_id": "cell-e737726b50234217",
     "locked": true,
     "schema_version": 1,
     "solution": false
    }
   },
   "source": [
    "## Self-Check\n",
    "\n",
    "Run the cell below to test the correctness of your code above before submitting for grading."
   ]
  },
  {
   "cell_type": "code",
   "execution_count": 11,
   "metadata": {
    "nbgrader": {
     "grade": false,
     "grade_id": "cell-c4c9260c7ef05448",
     "locked": true,
     "schema_version": 1,
     "solution": false
    }
   },
   "outputs": [
    {
     "name": "stdout",
     "output_type": "stream",
     "text": [
      "Correct!\n",
      "Your multiply function works correctly!\n"
     ]
    }
   ],
   "source": [
    "# Run this self-test cell to check your code\n",
    "# Do not add code or delete code in this cell\n",
    "from jn import testMultiply\n",
    "\n",
    "try:  \n",
    "    print(testMultiply(multiply))\n",
    "except Exception as e:\n",
    "    print(\"Error!\\n\" + str(e))\n",
    "    "
   ]
  },
  {
   "cell_type": "markdown",
   "metadata": {
    "nbgrader": {
     "grade": false,
     "grade_id": "cell-2e381ccf6d88ab01",
     "locked": true,
     "schema_version": 1,
     "solution": false
    }
   },
   "source": [
    "## Submitting your Code\n",
    "\n",
    "Once you have completed your work on your notebook, you will submit your instructor review. Follow these steps:\n",
    "\n",
    "1. Save your work by selecting the \"Save and Checkpoint\" entry from the \"File\" menu at the top of the notebook.\n",
    "\n",
    "2. In the blue menu bar along the top of this code exercise window, you’ll see a menu item called Education. In the Education menu, click Mark as Completed to submit your code for instructor review. \n",
    "\n",
    "3. The Jupyter notebook will always remain accessible in the first tabbed window of the exercise. To reattempt the work, you will first need to click Mark as Uncompleted in the Education menu and then proceed to make edits to the notebook. Once you are ready to resubmit, follow steps one through three. \n",
    "\n",
    "<b>Please note</b>: Some notebooks, such as this one, will not contain graded exercises. Therefore, these notebooks will not contain a <code>Mark as Completed</code> option. "
   ]
  },
  {
   "cell_type": "markdown",
   "metadata": {
    "nbgrader": {
     "grade": false,
     "grade_id": "cell-0d0cc2d1614f0718",
     "locked": true,
     "schema_version": 1,
     "solution": false
    }
   },
   "source": [
    "### Downloading your notebook\n",
    "\n",
    "If you would like to download a copy of your completed Jupyter Notebook, select <code>File->Download as</code> from the menu at the top of the notebook, and then select your preferred file format. \n",
    "\n",
    "If you choose to download your notebook in <code>.ipynb</code> format, you will notice that once downloaded, your notebook might have a filename extension <code>.ipynb.json</code>. If that is the case, you should change the file extension to <code>.ipynb</code> in order to properly open your notebook using Jupyter on your local machine.\n",
    "\n",
    "If you would like to produce a static version of the notebook rendered in HTML, which you might want to share with someone who can view it in a web browser, selection <code>File->Download as->HTML (.html)</code>.\n"
   ]
  },
  {
   "cell_type": "markdown",
   "metadata": {
    "nbgrader": {
     "grade": false,
     "grade_id": "cell-83b688eb8bcdf4a1",
     "locked": true,
     "schema_version": 1,
     "solution": false
    }
   },
   "source": [
    "**Congratulations!** You've begun to learn how to use a very powerful tool for integrating code, results, figures and documentation.  \n",
    "\n",
    "When you are finished, remember to submit your work by clicking the Education button in the top left corner of this window and choosing \"Mark as Completed.\"\n",
    "\n",
    "You'll get a lot more experience working with Jupyter notebooks, but feel free to explore some more within this notebook.  You can modify some of the code and Markdown that is already on this page, or you can use the empty cell below to try out some new things.  "
   ]
  },
  {
   "cell_type": "code",
   "execution_count": null,
   "metadata": {
    "nbgrader": {
     "grade": false,
     "grade_id": "cell-15342008e70cbc3d",
     "locked": true,
     "schema_version": 1,
     "solution": false
    }
   },
   "outputs": [],
   "source": []
  }
 ],
 "metadata": {
  "kernelspec": {
   "display_name": "Python 3",
   "language": "python",
   "name": "python3"
  },
  "language_info": {
   "codemirror_mode": {
    "name": "ipython",
    "version": 3
   },
   "file_extension": ".py",
   "mimetype": "text/x-python",
   "name": "python",
   "nbconvert_exporter": "python",
   "pygments_lexer": "ipython3",
   "version": "3.6.7"
  }
 },
 "nbformat": 4,
 "nbformat_minor": 2
}
